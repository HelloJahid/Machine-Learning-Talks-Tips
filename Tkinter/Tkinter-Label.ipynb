{
 "cells": [
  {
   "cell_type": "markdown",
   "metadata": {},
   "source": [
    "\n",
    "<h4> <font color=\"purple\" size=\"8\"> <center>  →Python Tkinter Label←  </center> </font> </h4>\n",
    "\n",
    "\n",
    "\n",
    "The Label is used to specify the container box where we can place the text or images. This widget is used to provide the message to the user about other widgets used in the python application.\n",
    "\n",
    "There are the various options which can be specified to configure the text or the part of the text shown in the Label.\n",
    "\n",
    "The syntax to use the Label is given below.\n",
    "\n",
    "### The syntax to use the Label() is given below.\n",
    "\n",
    "> <b><font color=\"green\" size=\"4\">w = Label (master, options)      </font></b>\n",
    "\n",
    "## A list of possible options is given below.\n",
    "<img src=\"./assets/images/Tkinter-Label-1.png\" alt=\"Smiley face\">"
   ]
  },
  {
   "cell_type": "code",
   "execution_count": 16,
   "metadata": {},
   "outputs": [],
   "source": [
    "# import module \n",
    "import tkinter as tk \n",
    "from tkinter import *\n",
    "\n",
    "\n",
    "\n",
    "# initalize the window manager\n",
    "root = tk.Tk()\n",
    "root.title(\"A simple tkinter window\")\n",
    "root.geometry(\"400x250\")\n",
    "\n",
    "def labal_chnager():\n",
    "    label_var.set(\"label has been changed.\")\n",
    "    \n",
    "\n",
    "label_var = StringVar()\n",
    "label_var.set(\"A simple label\")\n",
    "\n",
    "# define a button widget\n",
    "w = Label(root, font=(\"Courier\", 20), bg=\"white\", fg=\"purple\",  textvariable=label_var , pady=10, height=3).pack()\n",
    "\n",
    "b = Button(root, text=\"Label changer\", command=labal_chnager, fg=\"red\").pack()\n",
    "\n",
    "\n",
    "# mainloop method\n",
    "root.mainloop()"
   ]
  },
  {
   "cell_type": "code",
   "execution_count": null,
   "metadata": {},
   "outputs": [],
   "source": []
  },
  {
   "cell_type": "code",
   "execution_count": null,
   "metadata": {},
   "outputs": [],
   "source": []
  },
  {
   "cell_type": "code",
   "execution_count": null,
   "metadata": {},
   "outputs": [],
   "source": []
  },
  {
   "cell_type": "code",
   "execution_count": null,
   "metadata": {},
   "outputs": [],
   "source": []
  }
 ],
 "metadata": {
  "kernelspec": {
   "display_name": "Python 3",
   "language": "python",
   "name": "python3"
  },
  "language_info": {
   "codemirror_mode": {
    "name": "ipython",
    "version": 3
   },
   "file_extension": ".py",
   "mimetype": "text/x-python",
   "name": "python",
   "nbconvert_exporter": "python",
   "pygments_lexer": "ipython3",
   "version": "3.6.9"
  }
 },
 "nbformat": 4,
 "nbformat_minor": 4
}

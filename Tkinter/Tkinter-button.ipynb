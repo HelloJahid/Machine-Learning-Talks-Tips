{
 "cells": [
  {
   "cell_type": "markdown",
   "metadata": {},
   "source": [
    "\n",
    "<h4> <font color=\"purple\" size=\"8\"> <center> Python Tkinter Button </center> </font> </h4>"
   ]
  },
  {
   "cell_type": "markdown",
   "metadata": {},
   "source": [
    "The button widget is used to add various types of buttons to the python application. Python allows us to configure the look of the button according to our requirements. Various options can be set or reset depending upon the requirements.\n",
    "\n",
    "We can also associate a method or function with a button which is called when the button is pressed.\n",
    "\n",
    "### The syntax to use the Button() is given below.\n",
    "\n",
    "> <b><font color=\"green\" size=\"4\">W = Button(parent, options)    </font></b>\n",
    "\n",
    "## A list of possible options is given below.\n",
    "<img src=\"./assets/images/Tkinter-button-1.png\" alt=\"Smiley face\">"
   ]
  },
  {
   "cell_type": "code",
   "execution_count": null,
   "metadata": {},
   "outputs": [],
   "source": []
  },
  {
   "cell_type": "code",
   "execution_count": null,
   "metadata": {},
   "outputs": [],
   "source": []
  },
  {
   "cell_type": "code",
   "execution_count": 15,
   "metadata": {},
   "outputs": [],
   "source": [
    "# import module \n",
    "import tkinter as tk \n",
    "from tkinter import *\n",
    "from tkinter import messagebox\n",
    "\n",
    "def greenfun():\n",
    "    messagebox.showinfo(\"Click green button\")\n",
    "    \n",
    "def redfun():\n",
    "    messagebox.showinfo(\"Click red button\")\n",
    "\n",
    "\n",
    "# initalize the window manager\n",
    "root = tk.Tk()\n",
    "root.title(\"A simple tkinter window\")\n",
    "root.geometry(\"400x250\")\n",
    "\n",
    "\n",
    "\n",
    "# define a button widget\n",
    "rbtn = Button(root, text=\"Red\", fg=\"red\", pady=10, width=10, command=redfun).pack(side=TOP)\n",
    "\n",
    "gbtn = Button(root, text=\"Green\", fg=\"green\", command=greenfun).pack(side=BOTTOM)\n",
    "# mainloop method\n",
    "root.mainloop()\n",
    "\n",
    "\n",
    "\n",
    "\n"
   ]
  },
  {
   "cell_type": "code",
   "execution_count": null,
   "metadata": {},
   "outputs": [],
   "source": []
  },
  {
   "cell_type": "markdown",
   "metadata": {},
   "source": [
    "### reference \n",
    "<a href=\"https://www.javatpoint.com/python-tkinter\">https://www.javatpoint.com/python-tkinter</a>\n",
    "<p> </p>\n",
    "\n",
    "\n",
    "<h1> <center><font color=\"blue\" size=\"10\"> ধন্যবাদ!  </font> </center>  </h1>"
   ]
  },
  {
   "cell_type": "code",
   "execution_count": null,
   "metadata": {},
   "outputs": [],
   "source": []
  }
 ],
 "metadata": {
  "kernelspec": {
   "display_name": "Python 3",
   "language": "python",
   "name": "python3"
  },
  "language_info": {
   "codemirror_mode": {
    "name": "ipython",
    "version": 3
   },
   "file_extension": ".py",
   "mimetype": "text/x-python",
   "name": "python",
   "nbconvert_exporter": "python",
   "pygments_lexer": "ipython3",
   "version": "3.6.9"
  }
 },
 "nbformat": 4,
 "nbformat_minor": 4
}

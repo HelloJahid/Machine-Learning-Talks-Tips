{
 "cells": [
  {
   "cell_type": "markdown",
   "metadata": {},
   "source": [
    "\n",
    "<h4> <font color=\"purple\" size=\"8\"> <center> Python Tkinter Geometry </center> </font> </h4>"
   ]
  },
  {
   "cell_type": "markdown",
   "metadata": {},
   "source": [
    "\n",
    "The Tkinter geometry specifies the method by using which, the widgets are represented on display. The python Tkinter provides the following geometry methods.\n",
    "\n",
    "<li> <font color=\"green\" size=\"4\">The pack() method</font> </li>\n",
    "<li> <font color=\"green\" size=\"4\"> The grid() method </font> </li>\n",
    "<li> <font color=\"green\" size=\"4\"> The place() method    </font> </li>\n",
    "<h4> <font color=\"purple\" size=\"5\"> Let's discuss each one of them in detail.</font> </h4>"
   ]
  },
  {
   "cell_type": "code",
   "execution_count": null,
   "metadata": {},
   "outputs": [],
   "source": []
  },
  {
   "cell_type": "code",
   "execution_count": null,
   "metadata": {},
   "outputs": [],
   "source": []
  },
  {
   "cell_type": "code",
   "execution_count": null,
   "metadata": {},
   "outputs": [],
   "source": []
  },
  {
   "cell_type": "code",
   "execution_count": null,
   "metadata": {},
   "outputs": [],
   "source": []
  },
  {
   "cell_type": "code",
   "execution_count": null,
   "metadata": {},
   "outputs": [],
   "source": []
  },
  {
   "cell_type": "code",
   "execution_count": null,
   "metadata": {},
   "outputs": [],
   "source": []
  },
  {
   "cell_type": "code",
   "execution_count": null,
   "metadata": {},
   "outputs": [],
   "source": []
  },
  {
   "cell_type": "code",
   "execution_count": null,
   "metadata": {},
   "outputs": [],
   "source": []
  },
  {
   "cell_type": "code",
   "execution_count": null,
   "metadata": {},
   "outputs": [],
   "source": []
  },
  {
   "cell_type": "markdown",
   "metadata": {},
   "source": [
    "<h4> <font color=\"blue\" size=\"6\"> <center> Python Tkinter pack() method </center> </font> </h4>\n",
    "\n",
    "The pack() widget is used to organize widget in the block. The positions widgets added to the python application using the pack() method can be controlled by using the various options specified in the method call.\n",
    "\n",
    "However, the controls are less and widgets are generally added in the less organized manner.\n",
    "\n",
    "### The syntax to use the pack() is given below.\n",
    "\n",
    "> <b><font color=\"green\" size=\"4\">widget.pack(options) </font></b>\n",
    "\n",
    "\n",
    "A list of possible options that can be passed in pack() is given below.\n",
    "\n",
    "<ul>\n",
    "<li> <font color=\"black\" size=\"2\"><b><u> Expand: </u> </b> <br> If the expand is set to true, the widget expands to fill any space.</font> </li>\n",
    "<li> <font color=\"black\" size=\"2\"> <b><u> Fill:</u> </b> <br>By default, the fill is set to NONE. However, we can set it to X or Y to determine whether the widget contains any extra space. </font> </li>\n",
    "<li> <font color=\"black\" size=\"2\"> <b><u> Size:</u> </b><br> it represents the side of the parent to which the widget is to be placed on the window.  </font> </li>\n",
    "</ul>\n",
    "\n"
   ]
  },
  {
   "cell_type": "code",
   "execution_count": 5,
   "metadata": {},
   "outputs": [],
   "source": [
    "# write code here of pack method\n",
    "# import module \n",
    "import tkinter as tk \n",
    "from tkinter import *\n",
    "\n",
    "# initalize the window manager\n",
    "root = tk.Tk()\n",
    "root.title(\"A simple tkinter window\")\n",
    "root.geometry(\"400x250\")\n",
    "\n",
    "# define button widget\n",
    "redbutton = Button(root, text=\"red\", fg=\"red\")\n",
    "redbutton.pack(side=LEFT)\n",
    "\n",
    "greenbutton = Button(root, text=\"green\", fg=\"green\")\n",
    "greenbutton.pack(side=RIGHT)\n",
    "\n",
    "bluebutton = Button(root, text=\"blue\", fg=\"blue\")\n",
    "bluebutton.pack(side=TOP)\n",
    "\n",
    "blackbutton = Button(root, text=\"black\", fg=\"black\")\n",
    "blackbutton.pack(side=BOTTOM)\n",
    "\n",
    "\n",
    "\n",
    "\n",
    "# mainloop method\n",
    "root.mainloop()"
   ]
  },
  {
   "cell_type": "code",
   "execution_count": null,
   "metadata": {},
   "outputs": [],
   "source": []
  },
  {
   "cell_type": "code",
   "execution_count": null,
   "metadata": {},
   "outputs": [],
   "source": []
  },
  {
   "cell_type": "code",
   "execution_count": null,
   "metadata": {},
   "outputs": [],
   "source": []
  },
  {
   "cell_type": "code",
   "execution_count": null,
   "metadata": {},
   "outputs": [],
   "source": []
  },
  {
   "cell_type": "code",
   "execution_count": null,
   "metadata": {},
   "outputs": [],
   "source": []
  },
  {
   "cell_type": "markdown",
   "metadata": {},
   "source": [
    "<h4> <font color=\"blue\" size=\"6\"> <center> Python Tkinter grid() method </center> </font> </h4>\n",
    "\n",
    "The grid() geometry manager organizes the widgets in the tabular form. We can specify the rows and columns as the options in the method call. We can also specify the column span (width) or rowspan(height) of a widget.\n",
    "\n",
    "This is a more organized way to place the widgets to the python application. \n",
    "\n",
    "### The syntax to use the grid() is given below.\n",
    "\n",
    "> <b><font color=\"green\" size=\"4\">widget.grid(options)  </font></b>\n",
    "\n",
    "\n",
    "A list of possible options that can be passed in pack() is given below.\n",
    "\n",
    "<ul>\n",
    "<li> <font color=\"black\" size=\"2\"><b><u> Column: </u> </b> <br>The column number in which the widget is to be placed. The leftmost column is represented by 0.</font> </li>\n",
    "<li> <font color=\"black\" size=\"2\"> <b><u> Columnspan:</u> </b> <br>\n",
    "The width of the widget. It represents the number of columns up to which, the column is expanded. </font> </li>\n",
    "<li> <font color=\"black\" size=\"2\"> <b><u> ipadx, ipady:</u> </b> <br> \n",
    "It represents the number of pixels to pad the widget inside the widget's border.  </font> </li>\n",
    "    \n",
    "<li> <font color=\"black\" size=\"2\"><b><u>  padx, pady: </u> </b><br>\n",
    "It represents the number of pixels to pad the widget outside the widget's border.</font> </li>\n",
    "<li> <font color=\"black\" size=\"2\"> <b><u> row:</u> </b> <br>\n",
    "The row number in which the widget is to be placed. The topmost row is represented by 0. </font> </li>\n",
    "<li> <font color=\"black\" size=\"2\"> <b><u> rowspan:</u> </b> <br>\n",
    "The height of the widget, i.e. the number of the row up to which the widget is expanded.  </font> </li>\n",
    "    \n",
    "<li> <font color=\"black\" size=\"2\"><b><u> Sticky: </u> </b> <br>\n",
    "If the cell is larger than a widget, then sticky is used to specify the position of the widget inside the cell. It may be the concatenation of the sticky letters representing the position of the widget. It may be N, E, W, S, NE, NW, NS, EW, ES.</font> </li>\n",
    "\n",
    "</ul>\n",
    "\n"
   ]
  },
  {
   "cell_type": "code",
   "execution_count": 10,
   "metadata": {},
   "outputs": [],
   "source": [
    "# write code here of pack method\n",
    "# import module \n",
    "import tkinter as tk \n",
    "from tkinter import *\n",
    "\n",
    "# initalize the window manager\n",
    "root = tk.Tk()\n",
    "root.title(\"A simple tkinter window\")\n",
    "root.geometry(\"400x250\")\n",
    "\n",
    "# define   widget\n",
    "name = Label(root, text=\"Name\")\n",
    "name.grid(row=0, column=0)\n",
    "\n",
    "e1 = Entry(root)\n",
    "e1.grid(row=0, column=1)\n",
    "\n",
    "password = Label(root, text=\"Password\")\n",
    "password.grid(row=1, column=0)\n",
    "\n",
    "e1 = Entry(root)\n",
    "e1.grid(row=1, column=1)\n",
    "\n",
    "\n",
    "# mainloop method\n",
    "root.mainloop()"
   ]
  },
  {
   "cell_type": "code",
   "execution_count": null,
   "metadata": {},
   "outputs": [],
   "source": []
  },
  {
   "cell_type": "code",
   "execution_count": null,
   "metadata": {},
   "outputs": [],
   "source": []
  },
  {
   "cell_type": "code",
   "execution_count": null,
   "metadata": {},
   "outputs": [],
   "source": []
  },
  {
   "cell_type": "code",
   "execution_count": null,
   "metadata": {},
   "outputs": [],
   "source": []
  },
  {
   "cell_type": "code",
   "execution_count": null,
   "metadata": {},
   "outputs": [],
   "source": []
  },
  {
   "cell_type": "code",
   "execution_count": null,
   "metadata": {},
   "outputs": [],
   "source": []
  },
  {
   "cell_type": "code",
   "execution_count": null,
   "metadata": {},
   "outputs": [],
   "source": []
  },
  {
   "cell_type": "code",
   "execution_count": null,
   "metadata": {},
   "outputs": [],
   "source": []
  },
  {
   "cell_type": "code",
   "execution_count": null,
   "metadata": {},
   "outputs": [],
   "source": []
  },
  {
   "cell_type": "code",
   "execution_count": null,
   "metadata": {},
   "outputs": [],
   "source": [
    "\n"
   ]
  },
  {
   "cell_type": "markdown",
   "metadata": {},
   "source": [
    "<h4> <font color=\"blue\" size=\"6\"> <center> Python Tkinter place() method </center> </font> </h4>\n",
    "\n",
    "The place() geometry manager organizes the widgets to the specific x and y coordinates. \n",
    "\n",
    "### The syntax to use the place() is given below.\n",
    "\n",
    "> <b><font color=\"green\" size=\"4\">widget.place(options)  </font></b>\n",
    "\n",
    "\n",
    "A list of possible options that can be passed in pack() is given below.\n",
    "\n",
    "<ul>\n",
    "<li> <font color=\"black\" size=\"2\"><b><u> Anchor: </u> </b> <br> It represents the exact position of the widget within the container. The default value (direction) is NW (the upper left corner)</font> </li>\n",
    "<li> <font color=\"black\" size=\"2\"> <b><u> bordermode:</u> </b> <br>\n",
    "    The default value of the border type is INSIDE that refers to ignore the parent's inside the border. The other option is OUTSIDE.</font> </li>\n",
    "<li> <font color=\"black\" size=\"2\"> <b><u> height, width:</u> </b> <br> It refers to the height and width in pixels. </font> </li>\n",
    "    \n",
    "<li> <font color=\"black\" size=\"2\"><b><u> relheight, relwidth: </u> </b><br> It is represented as the float between 0.0 and 1.0 indicating the fraction of the parent's height and width.</font> </li>\n",
    "<li> <font color=\"black\" size=\"2\"> <b><u> relx, rely: </u> </b> <br>It is represented as the float between 0.0 and 1.0 that is the offset in the horizontal and vertical direction </font> </li>\n",
    "<li> <font color=\"black\" size=\"2\"> <b><u> x, y: </u> </b> <br>It refers to the horizontal and vertical offset in the pixels.  </font> </li>\n",
    "    \n",
    "\n",
    "\n",
    "</ul>\n",
    "\n"
   ]
  },
  {
   "cell_type": "code",
   "execution_count": 16,
   "metadata": {},
   "outputs": [],
   "source": [
    "# write code here of pack method\n",
    "# write code here of pack method\n",
    "# import module\n",
    "import tkinter as tk\n",
    "from tkinter import *\n",
    "\n",
    "# initalize the window manager\n",
    "root = tk.Tk()\n",
    "root.title(\"A simple tkinter window\")\n",
    "root.geometry(\"400x400\")\n",
    "\n",
    "# define  button widget\n",
    "name = Label(root, text = \"Name\")\n",
    "name.place(x = 30,y = 50)   # geometric management\n",
    "\n",
    "email = Label(root, text = \"Email\")\n",
    "email.place(x = 30, y = 90)    # geometric management\n",
    "\n",
    "password = Label(root, text = \"Password\")\n",
    "password.place(x = 30, y = 130)  # geometric management\n",
    "\n",
    "e1 = Entry(root)\n",
    "e1.place(x = 80, y = 50)  # geometric management\n",
    "\n",
    "e2 = Entry(root)\n",
    "e2.place(x = 80, y = 90)  # geometric management\n",
    "\n",
    "e3 = Entry(root)\n",
    "e3.place(x = 95, y = 130, height=30, width=70) # geometric management\n",
    "\n",
    "\n",
    "\n",
    "# mainloop method\n",
    "root.mainloop()\n"
   ]
  },
  {
   "cell_type": "code",
   "execution_count": null,
   "metadata": {},
   "outputs": [],
   "source": []
  },
  {
   "cell_type": "markdown",
   "metadata": {},
   "source": [
    "### reference \n",
    "<a href=\"https://www.javatpoint.com/python-tkinter\">https://www.javatpoint.com/python-tkinter</a>\n",
    "<p> </p>\n",
    "\n",
    "\n",
    "<h1> <center><font color=\"blue\" size=\"10\"> ধন্যবাদ!  </font> </center>  </h1>"
   ]
  },
  {
   "cell_type": "code",
   "execution_count": null,
   "metadata": {},
   "outputs": [],
   "source": []
  },
  {
   "cell_type": "code",
   "execution_count": null,
   "metadata": {},
   "outputs": [],
   "source": []
  }
 ],
 "metadata": {
  "kernelspec": {
   "display_name": "Python 3",
   "language": "python",
   "name": "python3"
  }
 },
 "nbformat": 4,
 "nbformat_minor": 4
}

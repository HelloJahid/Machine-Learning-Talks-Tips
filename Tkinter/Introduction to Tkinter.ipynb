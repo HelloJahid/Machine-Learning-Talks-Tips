{
 "cells": [
  {
   "cell_type": "markdown",
   "metadata": {},
   "source": [
    "<h1> <center><font color=\"blue\" size=\"10\"> Introduction to Tkinter  </font> </center>  </h1>"
   ]
  },
  {
   "cell_type": "markdown",
   "metadata": {},
   "source": [
    "<p>  Most of you write a code and run it in a command-line terminal or an IDE (Integrated Development Environment), and the code produces an output based on what you expect out of it either on the terminal or on the IDE itself. However, what if you want your system to have a fancy looking user-interface or maybe your application (use-case) requires you to have a GUI. </p>\n",
    "\n",
    "\n",
    "\n",
    "<p>GUI is nothing but a desktop app that provides you with an interface that helps you to interact with the computers and enriches your experience of giving a command (command-line input) to your code. They are used to perform different tasks in desktops, laptops, and other electronic devices, etc.</p>\n",
    "\n",
    "<p>\n",
    "<h4> Some of the applications where the power of GUI is utilized are: </h4>\n",
    "\n",
    "<ul>\n",
    "\n",
    "<li> <font color=\"green\" size=\"4\"> Creating a Calculator which would have a user-interface and functionalities that persists in a calculator</font> </li>\n",
    "<li> <font color=\"green\" size=\"4\"> Text-Editors, IDE's for coding are on a GUI app.      </font> </li>\n",
    "<li> <font color=\"green\" size=\"4\"> Sudoku, Chess, Solitaire, etc.., are games that you can play are GUI apps.     </font> </li>\n",
    "<li> <font color=\"green\" size=\"4\"> Chrome, Firefox, Microsoft Edge, etc. used to surf the internet is a GUI app.    </font> </li>\n",
    "    \n",
    "    \n",
    "</ul>\n",
    "    \n",
    "    \n",
    "    \n",
    "    \n",
    "\n",
    "\n",
    "\n",
    "<h3> Let's see some of the frameworks that Python provides to develop a GUI: </h3>\n",
    "\n",
    "<h3> <font color=\"blue\" size=\"4\">   PyQT    </font> </h3>PyQT is one of the favored cross-platform Python bindings implementing the Qt library for the Qt application development framework. Nokia primarily owns Qt. Currently, PyQT is available for almost all operating systems like Unix/Linux, Windows, Mac OS X. It blends the best of Python and Qt and provides flexibility to the programmer to decide whether to create a program by writing a pure python code or use Qt Designer to create visual dialogs.\n",
    "\n",
    "\n",
    "<h3> <font color=\"blue\" size=\"4\">   Kivy    </font> </h3> Kivy is for the creation of new user interfaces and is an OpenGL ES 2 accelerated framework. Much like PyQt, Kivy also supports almost all platforms like Windows, MacOSX, Linux, Android, iOS. It is an open-source framework and comes with over 20 pre-loaded widgets in its toolkit.\n",
    "\n",
    "\n",
    "<h3> <font color=\"blue\" size=\"4\">   Jython    </font> </h3>Jython is a Python port for Java, which gives Python scripts seamless access to Java class libraries on the local machine.\n",
    "\n",
    "<h3> <font color=\"blue\" size=\"4\">   WxPython    </font> </h3>\n",
    "WxPython, initially known as WxWindows (now as a WxWidgets library), is an open-source abstract-level wrapper for cross-platform GUI library. It is implemented as a Python expansion module. With WxPython, you, as a developer, can create native applications for Windows, Mac OS, and Unix.\n",
    "\n",
    "<h3> <font color=\"blue\" size=\"4\">   PyGUI    </font> </h3> PyGUI is a graphical application cross-platform framework for Unix, Macintosh, and Windows. Compared to some other GUI frameworks, PyGUI is by far the simplest and lightweight of them all, as the API is purely in sync with Python.PyGUI inserts very less code between the GUI platform and Python application; hence, the display of the application usually displays the natural GUI of the platform.\n",
    "\n",
    "<h4> <font color=\"red\" size=\"3\"> And finally, the framework that is the discussion for today's tutorial Tkinter!</font> </h4>\n",
    "\n",
    "\n",
    "<h3> <font color=\"blue\" size=\"4\">   Tkinter    </font> </h3> commonly comes bundled with Python, using Tk and is Python's standard GUI framework. It is famous for its simplicity and graphical user interface. It is open-source and available under the Python License.\n"
   ]
  },
  {
   "cell_type": "markdown",
   "metadata": {},
   "source": [
    "Tkinter is the only framework that’s built into the Python standard library. Tkinter has several strengths. It’s cross-platform, so the same code works on Windows, macOS, and Linux. Visual elements are rendered using native operating system elements, so applications built with Tkinter look like they belong on the platform where they’re run."
   ]
  },
  {
   "cell_type": "markdown",
   "metadata": {},
   "source": [
    "<h4> <font color=\"purple\" size=\"3\"> Now, let's build a very simple GUI with the help of Tkinter and understand it with the help of a flow diagram.</font> </h4>\n",
    "<img src=\"Introduction to Tkinter-1.png\" alt=\"Smiley face\">"
   ]
  },
  {
   "cell_type": "code",
   "execution_count": null,
   "metadata": {},
   "outputs": [],
   "source": []
  },
  {
   "cell_type": "markdown",
   "metadata": {},
   "source": [
    "# Do some code\n"
   ]
  },
  {
   "cell_type": "code",
   "execution_count": 2,
   "metadata": {},
   "outputs": [],
   "source": [
    "# import module \n",
    "import tkinter as tk \n",
    "from tkinter import *\n",
    "\n",
    "# initalize the window manager\n",
    "root = tk.Tk()\n",
    "root.title(\"A simple tkinter window\")\n",
    "root.geometry(\"400x250\")\n",
    "\n",
    "# define a button widget\n",
    "b = Button(root, text=\"button\", fg=\"blue\", bg=\"red\")\n",
    "\n",
    "# geometric management \n",
    "b.pack()\n",
    "\n",
    "# mainloop method\n",
    "root.mainloop()\n",
    "\n",
    "\n",
    "\n",
    "\n"
   ]
  },
  {
   "cell_type": "code",
   "execution_count": null,
   "metadata": {},
   "outputs": [],
   "source": []
  },
  {
   "cell_type": "code",
   "execution_count": null,
   "metadata": {},
   "outputs": [],
   "source": []
  },
  {
   "cell_type": "code",
   "execution_count": null,
   "metadata": {},
   "outputs": [],
   "source": []
  },
  {
   "cell_type": "code",
   "execution_count": null,
   "metadata": {},
   "outputs": [],
   "source": []
  },
  {
   "cell_type": "markdown",
   "metadata": {},
   "source": [
    "# Tkinter widgets\n",
    "There are various widgets like button, canvas, checkbutton, entry, etc. that are used to build the python GUI applications."
   ]
  },
  {
   "cell_type": "markdown",
   "metadata": {},
   "source": [
    "<img src=\"Introduction to Tkinter-2.png\" alt=\"Smiley face\">"
   ]
  },
  {
   "cell_type": "code",
   "execution_count": null,
   "metadata": {},
   "outputs": [],
   "source": [
    "\n",
    "\n"
   ]
  },
  {
   "cell_type": "markdown",
   "metadata": {},
   "source": [
    "### reference \n",
    "<a href=\"https://www.javatpoint.com/python-tkinter\">https://www.javatpoint.com/python-tkinter</a>\n",
    "<p> </p>\n",
    "<a href=\"https://www.datacamp.com/community/tutorials/gui-tkinter-python\">https://www.datacamp.com/community/tutorials/gui-tkinter-python</a>"
   ]
  },
  {
   "cell_type": "markdown",
   "metadata": {},
   "source": [
    "<h1> <center><font color=\"blue\" size=\"10\"> ধন্যবাদ!  </font> </center>  </h1>"
   ]
  }
 ],
 "metadata": {
  "kernelspec": {
   "display_name": "Python 3",
   "language": "python",
   "name": "python3"
  },
  "language_info": {
   "codemirror_mode": {
    "name": "ipython",
    "version": 3
   },
   "file_extension": ".py",
   "mimetype": "text/x-python",
   "name": "python",
   "nbconvert_exporter": "python",
   "pygments_lexer": "ipython3",
   "version": "3.6.9"
  }
 },
 "nbformat": 4,
 "nbformat_minor": 4
}

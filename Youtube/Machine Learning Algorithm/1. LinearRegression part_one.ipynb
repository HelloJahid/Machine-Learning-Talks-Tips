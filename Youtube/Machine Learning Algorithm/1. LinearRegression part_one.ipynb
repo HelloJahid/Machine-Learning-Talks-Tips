{
 "cells": [
  {
   "cell_type": "markdown",
   "metadata": {},
   "source": [
    "# Introduction to Linear Regression\n",
    "\n",
    "\n",
    "\n",
    "||continuous|categorical|\n",
    "|---|---|---|\n",
    "|**supervised**|**regression**|classification|\n",
    "|**unsupervised**|dimension reduction|clustering|"
   ]
  },
  {
   "cell_type": "markdown",
   "metadata": {},
   "source": [
    "## লিনিয়ার রিগ্রেশন কি ?"
   ]
  },
  {
   "cell_type": "markdown",
   "metadata": {},
   "source": [
    "<p> পরিসংখ্যানগত মডেলিং এ, রিগ্রেশন রিগ্রেশন (অথবা প্রত্যাগতি বিশ্লেষণ, ইংরেজি: Regression Analysis) হচ্ছে কতগুলো পরিসংখ্যানগত প্রক্রিয়ার সেট যার মাধ্যমে চলকসমূহের মধ্যে বিদ্যমান সম্পর্ক নির্ণয় করা হয় । কতগুলো চলকের মডেলিং ও বিশ্লেষণের জন্য এতে অনেকগুলো কৌশল অন্তর্ভুক্ত রয়েছে, যেখানে মূল লক্ষ্য হচ্ছে একটি অধীন চলকের সাথে এক বা একাধিক স্বাধীন চলক (বা 'সূচক') এর মধ্যকার সম্পর্কের নির্ণয়। আরও সুনির্দিষ্টভাবে বললে, যে কোন একটি স্বাধীন চলকের মান পরিবর্তন করলে এবং অন্যান্য স্বাধীন চলকসমূহকে স্থির রাখলে, সাধারণত কীভাবে অধীন চলকটির (বা 'নির্ণায়ক চলক') মানের পরিবর্তন হয়, রিগ্রেশন বিশ্লেষণ তা বুঝতে সাহায্য করে।        (source: wikipedia) </p>"
   ]
  },
  {
   "cell_type": "markdown",
   "metadata": {},
   "source": [
    "## লিনিয়ার  রিগ্রেশনের  এপ্লিকেশন  "
   ]
  },
  {
   "cell_type": "markdown",
   "metadata": {},
   "source": [
    "লিনিয়ার রিগ্রেশন মডেলগুলির বাস্তব জগতে অনেক  প্রয়োগ  রয়েছে যেমন অর্থনীতি (উদাঃ মূল্য বৃদ্ধির পূর্বাভাস), ব্যবসায় (উদাঃ পণ্য বিক্রয়, কর্মচারীর কার্যকারিতা সম্পর্কে ভবিষ্যদ্বাণী করা), রাষ্ট্রীয় বিজ্ঞান (উদাঃ ধর্ম , বর্ণ , লিঙ্গ বা জাতি থেকে রাজনৈতিক জনপ্রিয়তার পূর্বাভাস), স্বাস্থ্যসেবা (উদাঃ ওজন থেকে রক্তচাপের মাত্রা, জৈবিক কারণ থেকে রোগের সূচনা) এবং আরও অনেক কিছু সম্পর্কে ভবিষ্যদ্বাণী করা যায় |\n",
    "\n",
    " "
   ]
  },
  {
   "cell_type": "markdown",
   "metadata": {},
   "source": [
    "### লিনিয়ার রিগ্রেশনের ধারণা"
   ]
  },
  {
   "cell_type": "markdown",
   "metadata": {},
   "source": [
    "<p>মূল ধারণাটি হল আমরা যদি পর্যবেক্ষণ করা তথ্যের সাথে লিনিয়ার রিগ্রেশন মডেলটি ফিট করতে পারি তবে আমরা ভবিষ্যতের মানগুলি পূর্বাভাস দেওয়ার জন্য মডেলটি ব্যবহার করতে পারি। উদাহরণস্বরূপ, ধরে নেওয়া যাক আমরা হিস্টরিকাল  তথ্য থেকে খুঁজে পেয়েছি যে কোনও বাড়ির দাম (P) তার আয়তন-আকার (S) এর উপর রৈখিকভাবে নির্ভরশীল । </p>\n",
    "\n",
    "আসলে আমরা দেখতে পেয়েছি যে কোনও বাড়ির দাম তার আকারের 90 গুণ বেশি। সমীকরণটি দেখতে  হবে:\n",
    "\n",
    "<h3><center> P = 90*S  </center></h3> \n",
    "\n",
    "<p> এই মডেলটির সাহায্যে আমরা তখন কোনও বাড়ির দাম অনুমান করতে পারি। আমাদের যদি একটি বাড়ি থাকে যা 1,500 বর্গফুট হয়, আমরা এর দামটি গণনা করতে পারি:  </p>\n",
    "\n",
    "<h3><center> P = 90 * 1500 = 135,000  </center></h3> \n"
   ]
  },
  {
   "cell_type": "markdown",
   "metadata": {},
   "source": [
    "<h4><u>এই পোস্টে, আমরা কভার করবো : </u></h4>\n",
    "<ul>\n",
    "    <li> লিনিয়ার রিগ্রেশনের এর  মৌলিক ধারণা এবং গাণিতিক ব্যাখ্যা  </li>\n",
    "    <li> সাইকিট-লার্ন ব্যবহার করে কিভাবে  লিনিয়ার রিগ্রেশন এর  প্রয়োগ করা যায় </li>\n",
    "    \n",
    "</ul>\n"
   ]
  },
  {
   "cell_type": "markdown",
   "metadata": {},
   "source": [
    "<h3> মূল ধারণা এবং গণিত </h3>\n",
    "<br>\n",
    "\n",
    "<h4> লিনিয়ার রিগ্রেশন মডেলটিতে দুটি ধরণের ভেরিয়েবল রয়েছে: </h4>\n",
    "<ul>\n",
    "    <li> ইনপুট বা প্রেডিকটর ভেরিয়েবল হলো এমন একটি  ভেরিয়েবল (গুলি) যা আউটপুট ভেরিয়েবলের মান অনুমান করতে সহায়তা করে। এটি সাধারণত X হিসাবে উল্লেখ করা হয়।  </li>\n",
    "    <li>আউটপুট ভেরিয়েবল এমন একটি  ভেরিয়েবল যা আমরা প্রেডিক্ট  করতে চাই। এটিকে সাধারণত Y হিসাবে উল্লেখ করা হয় </li>\n",
    "    \n",
    "</ul>\n",
    "\n",
    "লিনিয়ার রিগ্রেশন ব্যবহার করে Y অনুমান করতে আমরা সমীকরণটি ধরে নিই:\n",
    "<h3><center> Yₑ = α + β X  </center></h3> \n",
    "\n",
    "<p> যেখানে Yₑ হ'ল আমাদের লিনিয়ার সমীকরণের উপর ভিত্তি করে Y এর এস্টিমেটেড  বা প্রেডিক্টেড  মান। </p>\n",
    "<p>আমাদের লক্ষ্য হলো পরিসংখ্যানগতভাবে α এবং  β প্যারামিটারের অর্থপূর্ণ মান বাহির করা যা, Y এবং Yₑ এর মধ্যে পার্থক্য হ্রাস </p>\n",
    "\n",
    "<p>\n",
    "আমরা যদি এই দুটি প্যারামিটারের সর্বোত্তম মানগুলি নির্ধারণ করতে সক্ষম হয়ে থাকি, তবে X এর মান বিবেচনা করে Y মানগুলির গণনা করার  জন্য আমাদের বেস্ট  ফিটের লাইন বা X এবং Y যা এর মাঝে লিনিয়ার রিলেশন খুঁজে পাবো |</p>\n",
    "\n",
    "<p>সুতরাং, আমরা কীভাবে α এবং β অনুমান করব? আমরা ordinary least squares.\n",
    " নামে একটি পদ্ধতি ব্যবহার করতে পারি।</p>"
   ]
  },
  {
   "cell_type": "markdown",
   "metadata": {},
   "source": [
    "### Ordinary Least Squares"
   ]
  },
  {
   "cell_type": "markdown",
   "metadata": {},
   "source": [
    "<img src=\"1.png\">\n",
    "<!-- <img src=\"/home/alpha/Desktop/1.png\" alt=\"Smiley face\"> -->\n",
    "<center> সবুজ রেখাগুলি প্রকৃত মান Y এবং প্রেডিক্টেড  মান Yₑ   মধ্যে পার্থক্য নির্দেশ করে   </center>\n",
    "\n",
    "<br>\n",
    "\n",
    "<p> Least-squares পদ্ধতির উদ্দেশ্য হলো α এবং β এর এমন কিছু মান বাহির করা, যা  হ্রাস করে Y এবং Yₑ এর মধ্যে বর্গক্ষেত্রের বিয়োগফলের  যোগফল | আমরা এখানে derivation মধ্য দিয়ে যাব না, তবে ক্যালকুলাস ব্যবহার করে আমরা দেখাতে পারি যে অজানা প্যারামিটারগুলির(α এবং β) মান নিম্নরূপ:</p>\n",
    "<img src=\"2.gif\" alt=\"Smiley face\">\n",
    "\n",
    "<h4><u>যেখানে</u></h4>\n",
    "<ul>\n",
    "    <li> X̄ হলো X মানগুলির গড়  </li>\n",
    "    <li> Ȳ হলো Y মানগুলির গড়। </li>\n",
    "    \n",
    "</ul>\n",
    "\n"
   ]
  },
  {
   "cell_type": "markdown",
   "metadata": {},
   "source": [
    "__________________________________________________________________________________________________________________\n",
    "__________________________________________________________________________________________________________________\n",
    "__________________________________________________________________________________________________________________"
   ]
  },
  {
   "cell_type": "markdown",
   "metadata": {},
   "source": [
    "## Linear Regression From Scratch\n",
    "\n",
    "দুটি পাইথন মডিউল ব্যবহার করে খুব সহজে আমরা লিনিয়ার রিগ্রেশন পরিমাপ করতে পারি যেমন :\n",
    "\n",
    "<ul>\n",
    "    <li> <u>scikit-learn </u> — a module that provides simple and efficient tools for data mining and data analysis. </li>\n",
    "    <li> <u>statsmodels</u> — a module that provides classes and functions for the estimation of many different statistical models, as well as for conducting statistical tests, and statistical data exploration.</li>\n",
    "    \n",
    "</ul>\n",
    "\n",
    "\n"
   ]
  },
  {
   "cell_type": "markdown",
   "metadata": {},
   "source": [
    "### Linear Regression with scikit-learn"
   ]
  },
  {
   "cell_type": "markdown",
   "metadata": {},
   "source": [
    "আমরা এখন দেখবো কিভাবে খুব সহজে লিনিয়ার রিগ্রেশন বাস্তবায়ন করতে পারি\n",
    "\n",
    "<p>কিববে scikit-learn ইনস্টল করবেন নিচের এই লিংক এর ক্লিক করলেই পেয়ে যাবেন </p>\n",
    "<a href=\"https://scikit-learn.org/stable/install.html\">Install scikit-learn</a>\n",
    "\n"
   ]
  },
  {
   "cell_type": "markdown",
   "metadata": {},
   "source": [
    "### ডাটাসেট \n",
    "\n",
    "<p>\n",
    "এই পদ্ধতিটি বাস্তবায়নের জন্য, আমরা বিভিন্ন মাধ্যমের বিজ্ঞাপনে ব্যয় করা বিভিন্ন ব্যয় এবং নির্দিষ্ট পণ্যের জন্য বিক্রয় সম্পর্কে খুব জনপ্রিয় একটি বিজ্ঞাপন ডেটাসেট ব্যবহার করব। আপনি এই ডেটাসেটটি এখানে ডাউনলোড করতে <a href=\"https://www.kaggle.com/purbar/advertising-data\">পারেন।</a> </p>\n",
    "\n",
    "ডাটাসেট টি সম্পর্কে বিস্তারিত দেখো নেই | এই ক্ষত্রে ডাটাসেট টি লোড করার জন্য আমরা  <a href=\"https://pandas.pydata.org/\">Pandas </a>লাইব্রেরি ব্যবহার করবো  \n",
    "\n",
    "\n"
   ]
  },
  {
   "cell_type": "code",
   "execution_count": null,
   "metadata": {},
   "outputs": [],
   "source": []
  },
  {
   "cell_type": "code",
   "execution_count": 1,
   "metadata": {},
   "outputs": [],
   "source": [
    "# Import required library \n",
    "import pandas as pd \n",
    "import numpy as np \n",
    "import matplotlib.pyplot as plt \n",
    "from sklearn.linear_model import LinearRegression\n",
    "from sklearn.model_selection import train_test_split\n",
    "\n",
    "%matplotlib inline"
   ]
  },
  {
   "cell_type": "code",
   "execution_count": 17,
   "metadata": {},
   "outputs": [
    {
     "data": {
      "text/html": [
       "<div>\n",
       "<style scoped>\n",
       "    .dataframe tbody tr th:only-of-type {\n",
       "        vertical-align: middle;\n",
       "    }\n",
       "\n",
       "    .dataframe tbody tr th {\n",
       "        vertical-align: top;\n",
       "    }\n",
       "\n",
       "    .dataframe thead th {\n",
       "        text-align: right;\n",
       "    }\n",
       "</style>\n",
       "<table border=\"1\" class=\"dataframe\">\n",
       "  <thead>\n",
       "    <tr style=\"text-align: right;\">\n",
       "      <th></th>\n",
       "      <th>TV</th>\n",
       "      <th>Radio</th>\n",
       "      <th>Newspaper</th>\n",
       "      <th>Sales</th>\n",
       "    </tr>\n",
       "  </thead>\n",
       "  <tbody>\n",
       "    <tr>\n",
       "      <th>1</th>\n",
       "      <td>230.1</td>\n",
       "      <td>37.8</td>\n",
       "      <td>69.2</td>\n",
       "      <td>22.1</td>\n",
       "    </tr>\n",
       "    <tr>\n",
       "      <th>2</th>\n",
       "      <td>44.5</td>\n",
       "      <td>39.3</td>\n",
       "      <td>45.1</td>\n",
       "      <td>10.4</td>\n",
       "    </tr>\n",
       "    <tr>\n",
       "      <th>3</th>\n",
       "      <td>17.2</td>\n",
       "      <td>45.9</td>\n",
       "      <td>69.3</td>\n",
       "      <td>9.3</td>\n",
       "    </tr>\n",
       "    <tr>\n",
       "      <th>4</th>\n",
       "      <td>151.5</td>\n",
       "      <td>41.3</td>\n",
       "      <td>58.5</td>\n",
       "      <td>18.5</td>\n",
       "    </tr>\n",
       "    <tr>\n",
       "      <th>5</th>\n",
       "      <td>180.8</td>\n",
       "      <td>10.8</td>\n",
       "      <td>58.4</td>\n",
       "      <td>12.9</td>\n",
       "    </tr>\n",
       "  </tbody>\n",
       "</table>\n",
       "</div>"
      ],
      "text/plain": [
       "      TV  Radio  Newspaper  Sales\n",
       "1  230.1   37.8       69.2   22.1\n",
       "2   44.5   39.3       45.1   10.4\n",
       "3   17.2   45.9       69.3    9.3\n",
       "4  151.5   41.3       58.5   18.5\n",
       "5  180.8   10.8       58.4   12.9"
      ]
     },
     "execution_count": 17,
     "metadata": {},
     "output_type": "execute_result"
    }
   ],
   "source": [
    "# read data into a DataFrame\n",
    "data = pd.read_csv('Advertising.csv', index_col=0)\n",
    "data.head()"
   ]
  },
  {
   "cell_type": "markdown",
   "metadata": {},
   "source": [
    "What are the **features**?\n",
    "- TV: advertising dollars spent on TV for a single product in a given market (in thousands of dollars)\n",
    "- Radio: advertising dollars spent on Radio\n",
    "- Newspaper: advertising dollars spent on Newspaper\n",
    "\n",
    "What is the **response**?\n",
    "- Sales: sales of a single product in a given market (in thousands of widgets)"
   ]
  },
  {
   "cell_type": "code",
   "execution_count": 18,
   "metadata": {},
   "outputs": [
    {
     "data": {
      "text/plain": [
       "(200, 4)"
      ]
     },
     "execution_count": 18,
     "metadata": {},
     "output_type": "execute_result"
    }
   ],
   "source": [
    "# print the shape of the DataFrame\n",
    "data.shape"
   ]
  },
  {
   "cell_type": "markdown",
   "metadata": {},
   "source": [
    "There are 200 observations, and thus 200 markets in the dataset."
   ]
  },
  {
   "cell_type": "code",
   "execution_count": 19,
   "metadata": {},
   "outputs": [
    {
     "data": {
      "text/plain": [
       "<matplotlib.axes._subplots.AxesSubplot at 0x7ff0a6d98d30>"
      ]
     },
     "execution_count": 19,
     "metadata": {},
     "output_type": "execute_result"
    },
    {
     "data": {
      "image/png": "[encoded data removed]",
      "text/plain": [
       "<Figure size 1152x576 with 3 Axes>"
      ]
     },
     "metadata": {
      "needs_background": "light"
     },
     "output_type": "display_data"
    }
   ],
   "source": [
    "# visualize the relationship between the features and the response using scatterplots\n",
    "fig, axs = plt.subplots(1, 3, sharey=True)\n",
    "data.plot(kind='scatter', x='TV', y='Sales', ax=axs[0], figsize=(16, 8))\n",
    "data.plot(kind='scatter', x='Radio', y='Sales', ax=axs[1])\n",
    "data.plot(kind='scatter', x='Newspaper', y='Sales', ax=axs[2])"
   ]
  },
  {
   "cell_type": "markdown",
   "metadata": {},
   "source": [
    "<p> মাল্টিপল লিনিয়ার রিগ্রেশন মডেল জন্য আমরা দুইটি প্রেডিক্টের ভ্যারিয়েবল ব্যবহার করেছি |  এটি খুব মৌলিক একটা লিনিয়ার রিগ্রেশন মডেল, যা আমরা ডিফাইন করতে পারি এইভাবে: </p>\n",
    "\n",
    "<center> <h4>Yₑ = α + β₁X₁ + β₂X₂ + … + βₚXₚ,</h4> where p is the number of predictors.</center> \n",
    "\n",
    "<p>আমাদের উধাহরণে, TV এবং Radio ভ্যারিয়েবল এর মাধ্যমে  আমরা Sales প্রেডিক্ট করবো | সুতরাং আমাদের মডেল টি এইভাবে লিখতে পারি </p>\n",
    "<center> <h4>Sales = α + β₁TV + β₂Radio.</h4> </center>\n",
    "\n",
    "\n",
    "First, we initialise our linear regression model, then fit the model to our predictors and output variables:"
   ]
  },
  {
   "cell_type": "code",
   "execution_count": null,
   "metadata": {},
   "outputs": [],
   "source": []
  },
  {
   "cell_type": "code",
   "execution_count": 6,
   "metadata": {},
   "outputs": [],
   "source": [
    "# First, we initialise our linear regression model, then fit the model to our predictors and output variables:\n",
    "# Build linear regression model using TV and Radio as predictors\n",
    "\n",
    "# Split data into predictors X and output Y\n",
    "predictors = ['TV', 'Radio']\n",
    "X = data[predictors]\n",
    "y = data['Sales']\n",
    "\n",
    "\n",
    "\n"
   ]
  },
  {
   "cell_type": "code",
   "execution_count": 20,
   "metadata": {},
   "outputs": [
    {
     "data": {
      "text/html": [
       "<div>\n",
       "<style scoped>\n",
       "    .dataframe tbody tr th:only-of-type {\n",
       "        vertical-align: middle;\n",
       "    }\n",
       "\n",
       "    .dataframe tbody tr th {\n",
       "        vertical-align: top;\n",
       "    }\n",
       "\n",
       "    .dataframe thead th {\n",
       "        text-align: right;\n",
       "    }\n",
       "</style>\n",
       "<table border=\"1\" class=\"dataframe\">\n",
       "  <thead>\n",
       "    <tr style=\"text-align: right;\">\n",
       "      <th></th>\n",
       "      <th>TV</th>\n",
       "      <th>Radio</th>\n",
       "    </tr>\n",
       "  </thead>\n",
       "  <tbody>\n",
       "    <tr>\n",
       "      <th>1</th>\n",
       "      <td>230.1</td>\n",
       "      <td>37.8</td>\n",
       "    </tr>\n",
       "    <tr>\n",
       "      <th>2</th>\n",
       "      <td>44.5</td>\n",
       "      <td>39.3</td>\n",
       "    </tr>\n",
       "    <tr>\n",
       "      <th>3</th>\n",
       "      <td>17.2</td>\n",
       "      <td>45.9</td>\n",
       "    </tr>\n",
       "    <tr>\n",
       "      <th>4</th>\n",
       "      <td>151.5</td>\n",
       "      <td>41.3</td>\n",
       "    </tr>\n",
       "    <tr>\n",
       "      <th>5</th>\n",
       "      <td>180.8</td>\n",
       "      <td>10.8</td>\n",
       "    </tr>\n",
       "  </tbody>\n",
       "</table>\n",
       "</div>"
      ],
      "text/plain": [
       "      TV  Radio\n",
       "1  230.1   37.8\n",
       "2   44.5   39.3\n",
       "3   17.2   45.9\n",
       "4  151.5   41.3\n",
       "5  180.8   10.8"
      ]
     },
     "execution_count": 20,
     "metadata": {},
     "output_type": "execute_result"
    }
   ],
   "source": [
    "X.head()"
   ]
  },
  {
   "cell_type": "code",
   "execution_count": 21,
   "metadata": {},
   "outputs": [
    {
     "data": {
      "text/plain": [
       "1    22.1\n",
       "2    10.4\n",
       "3     9.3\n",
       "4    18.5\n",
       "5    12.9\n",
       "Name: Sales, dtype: float64"
      ]
     },
     "execution_count": 21,
     "metadata": {},
     "output_type": "execute_result"
    }
   ],
   "source": [
    "y.head()"
   ]
  },
  {
   "cell_type": "code",
   "execution_count": null,
   "metadata": {},
   "outputs": [],
   "source": [
    "# split the dataset into train and test \n",
    "X_train, X_test, y_train, y_test = train_test_split(X, y, test_size=0.1, random_state=42)"
   ]
  },
  {
   "cell_type": "code",
   "execution_count": 22,
   "metadata": {},
   "outputs": [
    {
     "data": {
      "text/plain": [
       "((180, 2), (20, 2))"
      ]
     },
     "execution_count": 22,
     "metadata": {},
     "output_type": "execute_result"
    }
   ],
   "source": [
    "X_train.shape, X_test.shape"
   ]
  },
  {
   "cell_type": "code",
   "execution_count": 23,
   "metadata": {},
   "outputs": [],
   "source": [
    "# Initialise and fit model\n",
    "lm = LinearRegression()\n",
    "\n"
   ]
  },
  {
   "cell_type": "code",
   "execution_count": 24,
   "metadata": {},
   "outputs": [],
   "source": [
    "# train the model with train dataset \n",
    "model = lm.fit(X_train, y_train)"
   ]
  },
  {
   "cell_type": "markdown",
   "metadata": {},
   "source": [
    "<h5> আবার, আলফা এবং বিটার মানগুলির  জন্য আমাদের নিজের মান গণনা করার দরকার নেই - আমাদের কেবলমাত্র আলফা জন্য .intercep_, এবং আমাদের coefficients বিটা 1 এবং বিটা 2 সহ একটি অ্যারের জন্য .coef_ কল করতে হবে: </h5>"
   ]
  },
  {
   "cell_type": "code",
   "execution_count": 25,
   "metadata": {},
   "outputs": [
    {
     "name": "stdout",
     "output_type": "stream",
     "text": [
      "alpha =  3.0808073548869377\n",
      "betas =  [0.04511728 0.18616718]\n"
     ]
    }
   ],
   "source": [
    "print('alpha = ', model.intercept_)\n",
    "print('betas = ', model.coef_)\n"
   ]
  },
  {
   "cell_type": "code",
   "execution_count": null,
   "metadata": {},
   "outputs": [],
   "source": []
  },
  {
   "cell_type": "code",
   "execution_count": null,
   "metadata": {},
   "outputs": [],
   "source": []
  },
  {
   "cell_type": "markdown",
   "metadata": {},
   "source": [
    "\n",
    "<h4><u> সুতরাং,আমরা পাইলাম </u></h4>\n",
    "<ul>\n",
    "    <li>α = 3.0808  </li>\n",
    "    <li> β₁ = 0.0451 </li>\n",
    "    <li> β₂ = 0.1861 </li>\n",
    "    \n",
    "</ul>\n",
    "\n",
    "<b> <p> অতএব, আমাদের মডেল হিসাবে লেখা যেতে পারে:</p> </b>\n",
    "<center> <h3> Sales = α + β₁TV + β₂Radio</h3> </center>\n",
    "<center> <h3> বিক্রয় = 3.0808 + 0.0451 * টিভি + 0.1861 * রেডিও</h3> </center>"
   ]
  },
  {
   "cell_type": "code",
   "execution_count": 26,
   "metadata": {},
   "outputs": [
    {
     "data": {
      "text/plain": [
       "array([16.33134249, 20.77689889, 21.56419052, 10.47824863, 22.14233655,\n",
       "       12.98496665, 21.03497343,  7.49621078, 13.74785927, 15.16960504,\n",
       "        9.08171445,  6.67755154, 14.29377838,  8.89083947,  9.76561926,\n",
       "       12.21187276,  8.64146137, 16.33367763, 10.25733251, 18.91124762])"
      ]
     },
     "execution_count": 26,
     "metadata": {},
     "output_type": "execute_result"
    }
   ],
   "source": [
    "# We can predict values by simply using .predict():\n",
    "model.predict(X_test)"
   ]
  },
  {
   "cell_type": "code",
   "execution_count": null,
   "metadata": {},
   "outputs": [],
   "source": []
  },
  {
   "cell_type": "markdown",
   "metadata": {},
   "source": [
    "<h4> আমরা টিভি এবং রেডিও বিজ্ঞাপনের যেকোন সংমিশ্রণ থেকে বিক্রয় প্রেডিকশন  দিতে পারি! উদাহরণস্বরূপ, আমরা যদি জানতে চাই যে আমরা টিভি বিজ্ঞাপনে  300 এবং রেডিও বিজ্ঞাপনে 200 ডলার  বিনিয়োগ করি তবে আমরা কতগুলি বিক্রয় করব! আমাদের যা করতে হবে তা হল মানগুলি প্লাগ করতে!</h4>"
   ]
  },
  {
   "cell_type": "code",
   "execution_count": 27,
   "metadata": {},
   "outputs": [
    {
     "name": "stdout",
     "output_type": "stream",
     "text": [
      "[53.84942865]\n"
     ]
    }
   ],
   "source": [
    "new_X = [[300, 200]]\n",
    "print(model.predict(new_X))"
   ]
  },
  {
   "cell_type": "markdown",
   "metadata": {},
   "source": [
    "<h3><center><font color=\"green\" size=\"3\"> এর অর্থ হল আমরা যদি টিভি বিজ্ঞাপনে 300 ডলার এবং রেডিও বিজ্ঞাপনে 200 ডলার ব্যয় করি তবে আমাদের গড়ে 54 টি ইউনিট বিক্রি হওয়ার আশা করা উচিত। </center></h3>"
   ]
  },
  {
   "cell_type": "code",
   "execution_count": null,
   "metadata": {},
   "outputs": [],
   "source": []
  },
  {
   "cell_type": "markdown",
   "metadata": {},
   "source": [
    "<h1> <center><font color=\"blue\" size=\"10\"> ধন্যবাদ!  </font> </center>  </h1>"
   ]
  },
  {
   "cell_type": "code",
   "execution_count": null,
   "metadata": {},
   "outputs": [],
   "source": []
  }
 ],
 "metadata": {
  "kernelspec": {
   "display_name": "Python 3",
   "language": "python",
   "name": "python3"
  },
  "language_info": {
   "codemirror_mode": {
    "name": "ipython",
    "version": 3
   },
   "file_extension": ".py",
   "mimetype": "text/x-python",
   "name": "python",
   "nbconvert_exporter": "python",
   "pygments_lexer": "ipython3",
   "version": "3.6.9"
  }
 },
 "nbformat": 4,
 "nbformat_minor": 4
}

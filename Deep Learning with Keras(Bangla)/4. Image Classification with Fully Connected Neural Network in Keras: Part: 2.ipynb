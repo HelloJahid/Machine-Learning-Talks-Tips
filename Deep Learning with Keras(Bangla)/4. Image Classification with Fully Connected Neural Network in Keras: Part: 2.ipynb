{
 "cells": [
  {
   "cell_type": "markdown",
   "metadata": {},
   "source": [
    "# YouTube Link \n",
    "## https://youtu.be/n-JbzaKiwL4"
   ]
  },
  {
   "cell_type": "markdown",
   "metadata": {},
   "source": [
    "## Image Classification with Fully Connected Neural Network in Keras: Part: 2\n",
    "### https://youtu.be/n-JbzaKiwL4"
   ]
  },
  {
   "cell_type": "code",
   "execution_count": 1,
   "metadata": {
    "colab": {
     "base_uri": "https://localhost:8080/",
     "height": 34
    },
    "colab_type": "code",
    "executionInfo": {
     "elapsed": 2337,
     "status": "ok",
     "timestamp": 1592458593202,
     "user": {
      "displayName": "jahid hasan",
      "photoUrl": "",
      "userId": "04583282639345967723"
     },
     "user_tz": -360
    },
    "id": "gAp_kgJFSVGt",
    "outputId": "63ea0fa5-5cf7-45c5-f015-c1fae41c0cf9"
   },
   "outputs": [
    {
     "name": "stderr",
     "output_type": "stream",
     "text": [
      "Using TensorFlow backend.\n"
     ]
    }
   ],
   "source": [
    "\n",
    "from __future__ import print_function\n",
    "import keras\n",
    "from keras.datasets import mnist\n",
    "from keras.models import Sequential\n",
    "from keras.layers import Dense\n",
    "import numpy as np\n",
    "import matplotlib.pyplot as plt \n",
    "%matplotlib inline \n",
    "\n",
    "batch_size = 128\n",
    "num_classes = 10\n",
    "epochs = 12\n"
   ]
  },
  {
   "cell_type": "code",
   "execution_count": 2,
   "metadata": {
    "colab": {
     "base_uri": "https://localhost:8080/",
     "height": 51
    },
    "colab_type": "code",
    "executionInfo": {
     "elapsed": 5704,
     "status": "ok",
     "timestamp": 1592458596611,
     "user": {
      "displayName": "jahid hasan",
      "photoUrl": "",
      "userId": "04583282639345967723"
     },
     "user_tz": -360
    },
    "id": "WAfbH2Oq3Xwg",
    "outputId": "bb0464a7-6546-41d7-84ed-ce566c65e008"
   },
   "outputs": [
    {
     "name": "stdout",
     "output_type": "stream",
     "text": [
      "Downloading data from https://s3.amazonaws.com/img-datasets/mnist.npz\n",
      "11493376/11490434 [==============================] - 2s 0us/step\n"
     ]
    }
   ],
   "source": [
    "\n",
    "\n",
    "\n",
    "# the data, split between train and test sets\n",
    "(x_train, y_train), (x_test, y_test) = mnist.load_data()\n"
   ]
  },
  {
   "cell_type": "code",
   "execution_count": 3,
   "metadata": {
    "colab": {
     "base_uri": "https://localhost:8080/",
     "height": 34
    },
    "colab_type": "code",
    "executionInfo": {
     "elapsed": 5697,
     "status": "ok",
     "timestamp": 1592458596615,
     "user": {
      "displayName": "jahid hasan",
      "photoUrl": "",
      "userId": "04583282639345967723"
     },
     "user_tz": -360
    },
    "id": "Ohl3LdP-4XTj",
    "outputId": "94ac4516-d97e-43c7-d63a-513d39ae0b91"
   },
   "outputs": [
    {
     "data": {
      "text/plain": [
       "(60000, 28, 28)"
      ]
     },
     "execution_count": 3,
     "metadata": {
      "tags": []
     },
     "output_type": "execute_result"
    }
   ],
   "source": [
    "x_train.shape"
   ]
  },
  {
   "cell_type": "code",
   "execution_count": 4,
   "metadata": {
    "colab": {},
    "colab_type": "code",
    "executionInfo": {
     "elapsed": 5698,
     "status": "ok",
     "timestamp": 1592458596619,
     "user": {
      "displayName": "jahid hasan",
      "photoUrl": "",
      "userId": "04583282639345967723"
     },
     "user_tz": -360
    },
    "id": "6zV1ORi24xJ6"
   },
   "outputs": [],
   "source": [
    "# input image dimensions\n",
    "img_rows, img_cols = 28, 28"
   ]
  },
  {
   "cell_type": "code",
   "execution_count": 5,
   "metadata": {
    "colab": {
     "base_uri": "https://localhost:8080/",
     "height": 282
    },
    "colab_type": "code",
    "executionInfo": {
     "elapsed": 7344,
     "status": "ok",
     "timestamp": 1592458598278,
     "user": {
      "displayName": "jahid hasan",
      "photoUrl": "",
      "userId": "04583282639345967723"
     },
     "user_tz": -360
    },
    "id": "8BSycSIl3XsC",
    "outputId": "2556adde-55f8-46cc-b38f-e3d7700f3420"
   },
   "outputs": [
    {
     "name": "stdout",
     "output_type": "stream",
     "text": [
      "Corresponding class to the image:  0\n"
     ]
    },
    {
     "data": {
      "image/png": "[encoded data removed]",
      "text/plain": [
       "<Figure size 432x288 with 1 Axes>"
      ]
     },
     "metadata": {
      "needs_background": "light",
      "tags": []
     },
     "output_type": "display_data"
    }
   ],
   "source": [
    "# plot the image\n",
    "plt.imshow(x_train[1])\n",
    "\n",
    "\n",
    "print(\"Corresponding class to the image: \",y_train[1])"
   ]
  },
  {
   "cell_type": "code",
   "execution_count": 6,
   "metadata": {
    "colab": {},
    "colab_type": "code",
    "executionInfo": {
     "elapsed": 7343,
     "status": "ok",
     "timestamp": 1592458598280,
     "user": {
      "displayName": "jahid hasan",
      "photoUrl": "",
      "userId": "04583282639345967723"
     },
     "user_tz": -360
    },
    "id": "L8DanmSY3XoI"
   },
   "outputs": [],
   "source": [
    "x_train = x_train.reshape(x_train.shape[0], img_rows*img_cols)\n",
    "x_test = x_test.reshape(x_test.shape[0], img_rows*img_cols)\n",
    "input_shape = (img_rows * img_cols)"
   ]
  },
  {
   "cell_type": "code",
   "execution_count": 7,
   "metadata": {
    "colab": {
     "base_uri": "https://localhost:8080/",
     "height": 34
    },
    "colab_type": "code",
    "executionInfo": {
     "elapsed": 7333,
     "status": "ok",
     "timestamp": 1592458598281,
     "user": {
      "displayName": "jahid hasan",
      "photoUrl": "",
      "userId": "04583282639345967723"
     },
     "user_tz": -360
    },
    "id": "BrH-1lzh4SCk",
    "outputId": "3dde34ec-8689-4f56-b24f-68d4e823a0e8"
   },
   "outputs": [
    {
     "data": {
      "text/plain": [
       "((60000, 784), (10000, 784))"
      ]
     },
     "execution_count": 7,
     "metadata": {
      "tags": []
     },
     "output_type": "execute_result"
    }
   ],
   "source": [
    "x_train.shape, x_test.shape"
   ]
  },
  {
   "cell_type": "code",
   "execution_count": 8,
   "metadata": {
    "colab": {
     "base_uri": "https://localhost:8080/",
     "height": 68
    },
    "colab_type": "code",
    "executionInfo": {
     "elapsed": 7319,
     "status": "ok",
     "timestamp": 1592458598283,
     "user": {
      "displayName": "jahid hasan",
      "photoUrl": "",
      "userId": "04583282639345967723"
     },
     "user_tz": -360
    },
    "id": "VGPwbK0b3XgE",
    "outputId": "050e8715-f3fd-4fbc-a3c6-42f270154a0e"
   },
   "outputs": [
    {
     "name": "stdout",
     "output_type": "stream",
     "text": [
      "x_train shape: (60000, 784)\n",
      "60000 train samples\n",
      "10000 test samples\n"
     ]
    }
   ],
   "source": [
    "x_train = x_train.astype('float32')\n",
    "x_test = x_test.astype('float32')\n",
    "x_train /= 255\n",
    "x_test /= 255\n",
    "print('x_train shape:', x_train.shape)\n",
    "print(x_train.shape[0], 'train samples')\n",
    "print(x_test.shape[0], 'test samples')\n"
   ]
  },
  {
   "cell_type": "code",
   "execution_count": 9,
   "metadata": {
    "colab": {
     "base_uri": "https://localhost:8080/",
     "height": 34
    },
    "colab_type": "code",
    "executionInfo": {
     "elapsed": 7310,
     "status": "ok",
     "timestamp": 1592458598284,
     "user": {
      "displayName": "jahid hasan",
      "photoUrl": "",
      "userId": "04583282639345967723"
     },
     "user_tz": -360
    },
    "id": "obuOpgwkXJl1",
    "outputId": "6cc8341b-0f74-4de2-e233-35838b171fb7"
   },
   "outputs": [
    {
     "data": {
      "text/plain": [
       "array([5, 0, 4, ..., 5, 6, 8], dtype=uint8)"
      ]
     },
     "execution_count": 9,
     "metadata": {
      "tags": []
     },
     "output_type": "execute_result"
    }
   ],
   "source": [
    "y_train"
   ]
  },
  {
   "cell_type": "code",
   "execution_count": 10,
   "metadata": {
    "colab": {},
    "colab_type": "code",
    "executionInfo": {
     "elapsed": 7309,
     "status": "ok",
     "timestamp": 1592458598285,
     "user": {
      "displayName": "jahid hasan",
      "photoUrl": "",
      "userId": "04583282639345967723"
     },
     "user_tz": -360
    },
    "id": "eAm5YT3wXJiz"
   },
   "outputs": [],
   "source": [
    "# convert class vectors to binary class matrices\n",
    "y_train = keras.utils.to_categorical(y_train, num_classes)\n",
    "y_test = keras.utils.to_categorical(y_test, num_classes)"
   ]
  },
  {
   "cell_type": "code",
   "execution_count": 11,
   "metadata": {
    "colab": {},
    "colab_type": "code",
    "executionInfo": {
     "elapsed": 14120,
     "status": "ok",
     "timestamp": 1592458605099,
     "user": {
      "displayName": "jahid hasan",
      "photoUrl": "",
      "userId": "04583282639345967723"
     },
     "user_tz": -360
    },
    "id": "mNB77OcYXJf7"
   },
   "outputs": [],
   "source": [
    "model = Sequential()\n",
    "model.add(Dense(128, activation='relu', input_shape=(784, )))\n",
    "model.add(Dense(64, activation='relu'))\n",
    "model.add(Dense(32, activation='relu'))\n",
    "model.add(Dense(10, activation='softmax'))"
   ]
  },
  {
   "cell_type": "code",
   "execution_count": 12,
   "metadata": {
    "colab": {
     "base_uri": "https://localhost:8080/",
     "height": 289
    },
    "colab_type": "code",
    "executionInfo": {
     "elapsed": 14107,
     "status": "ok",
     "timestamp": 1592458605100,
     "user": {
      "displayName": "jahid hasan",
      "photoUrl": "",
      "userId": "04583282639345967723"
     },
     "user_tz": -360
    },
    "id": "9uiVT0eHXY3j",
    "outputId": "77349474-ed75-49f1-a00e-564e2a67ed81"
   },
   "outputs": [
    {
     "name": "stdout",
     "output_type": "stream",
     "text": [
      "Model: \"sequential_1\"\n",
      "_________________________________________________________________\n",
      "Layer (type)                 Output Shape              Param #   \n",
      "=================================================================\n",
      "dense_1 (Dense)              (None, 128)               100480    \n",
      "_________________________________________________________________\n",
      "dense_2 (Dense)              (None, 64)                8256      \n",
      "_________________________________________________________________\n",
      "dense_3 (Dense)              (None, 32)                2080      \n",
      "_________________________________________________________________\n",
      "dense_4 (Dense)              (None, 10)                330       \n",
      "=================================================================\n",
      "Total params: 111,146\n",
      "Trainable params: 111,146\n",
      "Non-trainable params: 0\n",
      "_________________________________________________________________\n"
     ]
    }
   ],
   "source": [
    "model.summary()"
   ]
  },
  {
   "cell_type": "code",
   "execution_count": 13,
   "metadata": {
    "colab": {},
    "colab_type": "code",
    "executionInfo": {
     "elapsed": 14106,
     "status": "ok",
     "timestamp": 1592458605101,
     "user": {
      "displayName": "jahid hasan",
      "photoUrl": "",
      "userId": "04583282639345967723"
     },
     "user_tz": -360
    },
    "id": "Qhyd3gLD6aQI"
   },
   "outputs": [],
   "source": [
    "adam = keras.optimizers.Adam(lr=0.0001)"
   ]
  },
  {
   "cell_type": "code",
   "execution_count": 14,
   "metadata": {
    "colab": {},
    "colab_type": "code",
    "executionInfo": {
     "elapsed": 14104,
     "status": "ok",
     "timestamp": 1592458605101,
     "user": {
      "displayName": "jahid hasan",
      "photoUrl": "",
      "userId": "04583282639345967723"
     },
     "user_tz": -360
    },
    "id": "6C9PvxWApIJI"
   },
   "outputs": [],
   "source": [
    "model.compile(loss=keras.losses.categorical_crossentropy,\n",
    "              optimizer=adam,\n",
    "              metrics=['accuracy'])"
   ]
  },
  {
   "cell_type": "code",
   "execution_count": 14,
   "metadata": {
    "colab": {},
    "colab_type": "code",
    "executionInfo": {
     "elapsed": 14104,
     "status": "ok",
     "timestamp": 1592458605103,
     "user": {
      "displayName": "jahid hasan",
      "photoUrl": "",
      "userId": "04583282639345967723"
     },
     "user_tz": -360
    },
    "id": "DIi2ax8ypIGB"
   },
   "outputs": [],
   "source": []
  },
  {
   "cell_type": "code",
   "execution_count": 15,
   "metadata": {
    "colab": {
     "base_uri": "https://localhost:8080/",
     "height": 459
    },
    "colab_type": "code",
    "executionInfo": {
     "elapsed": 45307,
     "status": "ok",
     "timestamp": 1592458636320,
     "user": {
      "displayName": "jahid hasan",
      "photoUrl": "",
      "userId": "04583282639345967723"
     },
     "user_tz": -360
    },
    "id": "23CnUVKTXJb8",
    "outputId": "cd0fd5d0-8f39-497e-915d-b5269975e710"
   },
   "outputs": [
    {
     "name": "stdout",
     "output_type": "stream",
     "text": [
      "Train on 60000 samples, validate on 10000 samples\n",
      "Epoch 1/12\n",
      "60000/60000 [==============================] - 4s 68us/step - loss: 1.0517 - accuracy: 0.7244 - val_loss: 0.3866 - val_accuracy: 0.8976\n",
      "Epoch 2/12\n",
      "60000/60000 [==============================] - 2s 40us/step - loss: 0.3298 - accuracy: 0.9094 - val_loss: 0.2711 - val_accuracy: 0.9228\n",
      "Epoch 3/12\n",
      "60000/60000 [==============================] - 3s 43us/step - loss: 0.2543 - accuracy: 0.9277 - val_loss: 0.2264 - val_accuracy: 0.9350\n",
      "Epoch 4/12\n",
      "60000/60000 [==============================] - 2s 42us/step - loss: 0.2169 - accuracy: 0.9381 - val_loss: 0.1993 - val_accuracy: 0.9429\n",
      "Epoch 5/12\n",
      "60000/60000 [==============================] - 2s 41us/step - loss: 0.1924 - accuracy: 0.9445 - val_loss: 0.1819 - val_accuracy: 0.9478\n",
      "Epoch 6/12\n",
      "60000/60000 [==============================] - 2s 41us/step - loss: 0.1735 - accuracy: 0.9501 - val_loss: 0.1678 - val_accuracy: 0.9498\n",
      "Epoch 7/12\n",
      "60000/60000 [==============================] - 2s 41us/step - loss: 0.1584 - accuracy: 0.9536 - val_loss: 0.1541 - val_accuracy: 0.9544\n",
      "Epoch 8/12\n",
      "60000/60000 [==============================] - 2s 42us/step - loss: 0.1459 - accuracy: 0.9571 - val_loss: 0.1472 - val_accuracy: 0.9571\n",
      "Epoch 9/12\n",
      "60000/60000 [==============================] - 3s 42us/step - loss: 0.1348 - accuracy: 0.9610 - val_loss: 0.1354 - val_accuracy: 0.9597\n",
      "Epoch 10/12\n",
      "60000/60000 [==============================] - 2s 41us/step - loss: 0.1257 - accuracy: 0.9637 - val_loss: 0.1289 - val_accuracy: 0.9614\n",
      "Epoch 11/12\n",
      "60000/60000 [==============================] - 2s 41us/step - loss: 0.1168 - accuracy: 0.9662 - val_loss: 0.1226 - val_accuracy: 0.9650\n",
      "Epoch 12/12\n",
      "60000/60000 [==============================] - 3s 42us/step - loss: 0.1093 - accuracy: 0.9690 - val_loss: 0.1163 - val_accuracy: 0.9649\n"
     ]
    },
    {
     "data": {
      "text/plain": [
       "<keras.callbacks.callbacks.History at 0x7f3e1cf25da0>"
      ]
     },
     "execution_count": 15,
     "metadata": {
      "tags": []
     },
     "output_type": "execute_result"
    }
   ],
   "source": [
    "\n",
    "\n",
    "model.fit(x_train, y_train,\n",
    "          batch_size=batch_size,\n",
    "          epochs=epochs,\n",
    "          verbose=1,\n",
    "          validation_data=(x_test, y_test))\n",
    "\n"
   ]
  },
  {
   "cell_type": "code",
   "execution_count": 16,
   "metadata": {
    "colab": {},
    "colab_type": "code",
    "executionInfo": {
     "elapsed": 45832,
     "status": "ok",
     "timestamp": 1592458636847,
     "user": {
      "displayName": "jahid hasan",
      "photoUrl": "",
      "userId": "04583282639345967723"
     },
     "user_tz": -360
    },
    "id": "rGLmjGuomhzk"
   },
   "outputs": [],
   "source": [
    "model.save('./model.h5')"
   ]
  },
  {
   "cell_type": "code",
   "execution_count": 16,
   "metadata": {
    "colab": {},
    "colab_type": "code",
    "executionInfo": {
     "elapsed": 45834,
     "status": "ok",
     "timestamp": 1592458636850,
     "user": {
      "displayName": "jahid hasan",
      "photoUrl": "",
      "userId": "04583282639345967723"
     },
     "user_tz": -360
    },
    "id": "1i5IbCmE9-7y"
   },
   "outputs": [],
   "source": []
  },
  {
   "cell_type": "code",
   "execution_count": 17,
   "metadata": {
    "colab": {
     "base_uri": "https://localhost:8080/",
     "height": 51
    },
    "colab_type": "code",
    "executionInfo": {
     "elapsed": 46428,
     "status": "ok",
     "timestamp": 1592458637446,
     "user": {
      "displayName": "jahid hasan",
      "photoUrl": "",
      "userId": "04583282639345967723"
     },
     "user_tz": -360
    },
    "id": "rZ2QH6O-_UaC",
    "outputId": "8f32a4f5-5db6-4cef-ccd8-d9c2ad574fd4"
   },
   "outputs": [
    {
     "name": "stdout",
     "output_type": "stream",
     "text": [
      "Test loss: 0.11633492667153478\n",
      "Test accuracy: 0.964900016784668\n"
     ]
    }
   ],
   "source": [
    "score = model.evaluate(x_test, y_test, verbose=0)\n",
    "\n",
    "print('Test loss:', score[0])\n",
    "print('Test accuracy:', score[1])"
   ]
  },
  {
   "cell_type": "code",
   "execution_count": 18,
   "metadata": {
    "colab": {
     "base_uri": "https://localhost:8080/",
     "height": 34
    },
    "colab_type": "code",
    "executionInfo": {
     "elapsed": 46427,
     "status": "ok",
     "timestamp": 1592458637447,
     "user": {
      "displayName": "jahid hasan",
      "photoUrl": "",
      "userId": "04583282639345967723"
     },
     "user_tz": -360
    },
    "id": "lHQk7En27-8L",
    "outputId": "e76115c6-9f56-44f7-8826-01e936a161fc"
   },
   "outputs": [
    {
     "data": {
      "text/plain": [
       "(1, 784)"
      ]
     },
     "execution_count": 18,
     "metadata": {
      "tags": []
     },
     "output_type": "execute_result"
    }
   ],
   "source": [
    "test_data = x_test[0].reshape(1, 784)\n",
    "test_data.shape"
   ]
  },
  {
   "cell_type": "code",
   "execution_count": 19,
   "metadata": {
    "colab": {
     "base_uri": "https://localhost:8080/",
     "height": 34
    },
    "colab_type": "code",
    "executionInfo": {
     "elapsed": 46426,
     "status": "ok",
     "timestamp": 1592458637448,
     "user": {
      "displayName": "jahid hasan",
      "photoUrl": "",
      "userId": "04583282639345967723"
     },
     "user_tz": -360
    },
    "id": "DSmwxK12_UVy",
    "outputId": "82166ee3-b62e-452f-e558-6a42f3a96356"
   },
   "outputs": [
    {
     "data": {
      "text/plain": [
       "array([7])"
      ]
     },
     "execution_count": 19,
     "metadata": {
      "tags": []
     },
     "output_type": "execute_result"
    }
   ],
   "source": [
    "predict = model.predict(test_data)\n",
    "predict = np.argmax(predict, axis=1)\n",
    "predict"
   ]
  },
  {
   "cell_type": "code",
   "execution_count": 19,
   "metadata": {
    "colab": {},
    "colab_type": "code",
    "executionInfo": {
     "elapsed": 46426,
     "status": "ok",
     "timestamp": 1592458637449,
     "user": {
      "displayName": "jahid hasan",
      "photoUrl": "",
      "userId": "04583282639345967723"
     },
     "user_tz": -360
    },
    "id": "2JBTDOD-_UTF"
   },
   "outputs": [],
   "source": []
  },
  {
   "cell_type": "code",
   "execution_count": 19,
   "metadata": {
    "colab": {},
    "colab_type": "code",
    "executionInfo": {
     "elapsed": 46425,
     "status": "ok",
     "timestamp": 1592458637450,
     "user": {
      "displayName": "jahid hasan",
      "photoUrl": "",
      "userId": "04583282639345967723"
     },
     "user_tz": -360
    },
    "id": "rC3bJ2Y8_UQq"
   },
   "outputs": [],
   "source": []
  },
  {
   "cell_type": "code",
   "execution_count": 19,
   "metadata": {
    "colab": {},
    "colab_type": "code",
    "executionInfo": {
     "elapsed": 46425,
     "status": "ok",
     "timestamp": 1592458637452,
     "user": {
      "displayName": "jahid hasan",
      "photoUrl": "",
      "userId": "04583282639345967723"
     },
     "user_tz": -360
    },
    "id": "FN-fmMkG_UII"
   },
   "outputs": [],
   "source": []
  }
 ],
 "metadata": {
  "accelerator": "GPU",
  "colab": {
   "collapsed_sections": [],
   "name": "mnist_fNN.ipynb",
   "provenance": [
    {
     "file_id": "1NcokNRLhaFD6PU6Yc4cBCsgfld_kDZyX",
     "timestamp": 1591703310828
    }
   ]
  },
  "kernelspec": {
   "display_name": "Python 3",
   "language": "python",
   "name": "python3"
  },
  "language_info": {
   "codemirror_mode": {
    "name": "ipython",
    "version": 3
   },
   "file_extension": ".py",
   "mimetype": "text/x-python",
   "name": "python",
   "nbconvert_exporter": "python",
   "pygments_lexer": "ipython3",
   "version": "3.6.9"
  }
 },
 "nbformat": 4,
 "nbformat_minor": 1
}

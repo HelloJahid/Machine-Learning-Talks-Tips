{
 "cells": [
  {
   "cell_type": "markdown",
   "metadata": {},
   "source": [
    "# YouTube Link\n",
    "## https://youtu.be/HLo4PJl0Jb8"
   ]
  },
  {
   "cell_type": "markdown",
   "metadata": {},
   "source": [
    "## Image Prediction with Fully Connected Neural Network in Keras: Part: 5 \n",
    "### https://youtu.be/HLo4PJl0Jb8"
   ]
  },
  {
   "cell_type": "code",
   "execution_count": 5,
   "metadata": {
    "colab": {},
    "colab_type": "code",
    "executionInfo": {
     "elapsed": 8751,
     "status": "ok",
     "timestamp": 1592333315524,
     "user": {
      "displayName": "jahid hasan",
      "photoUrl": "",
      "userId": "04583282639345967723"
     },
     "user_tz": -360
    },
    "id": "xDIhcfxQdV4Z"
   },
   "outputs": [],
   "source": [
    "from keras.models import load_model\n",
    "\n",
    "model = load_model(\"./model.h5\")"
   ]
  },
  {
   "cell_type": "code",
   "execution_count": 6,
   "metadata": {
    "colab": {
     "base_uri": "https://localhost:8080/",
     "height": 289
    },
    "colab_type": "code",
    "executionInfo": {
     "elapsed": 1403,
     "status": "ok",
     "timestamp": 1592333327233,
     "user": {
      "displayName": "jahid hasan",
      "photoUrl": "",
      "userId": "04583282639345967723"
     },
     "user_tz": -360
    },
    "id": "s5H48SK-djpe",
    "outputId": "c2f0a094-fec1-46ee-d00b-5a45eb36b25c"
   },
   "outputs": [
    {
     "name": "stdout",
     "output_type": "stream",
     "text": [
      "Model: \"sequential_1\"\n",
      "_________________________________________________________________\n",
      "Layer (type)                 Output Shape              Param #   \n",
      "=================================================================\n",
      "dense_1 (Dense)              (None, 128)               100480    \n",
      "_________________________________________________________________\n",
      "dense_2 (Dense)              (None, 64)                8256      \n",
      "_________________________________________________________________\n",
      "dense_3 (Dense)              (None, 32)                2080      \n",
      "_________________________________________________________________\n",
      "dense_4 (Dense)              (None, 10)                330       \n",
      "=================================================================\n",
      "Total params: 111,146\n",
      "Trainable params: 111,146\n",
      "Non-trainable params: 0\n",
      "_________________________________________________________________\n"
     ]
    }
   ],
   "source": [
    "model.summary()"
   ]
  },
  {
   "cell_type": "code",
   "execution_count": null,
   "metadata": {
    "colab": {},
    "colab_type": "code",
    "id": "2aGm_uE9emqw"
   },
   "outputs": [],
   "source": []
  },
  {
   "cell_type": "code",
   "execution_count": 12,
   "metadata": {
    "colab": {},
    "colab_type": "code",
    "executionInfo": {
     "elapsed": 1317,
     "status": "ok",
     "timestamp": 1592333648869,
     "user": {
      "displayName": "jahid hasan",
      "photoUrl": "",
      "userId": "04583282639345967723"
     },
     "user_tz": -360
    },
    "id": "GiyISXszemnA"
   },
   "outputs": [],
   "source": [
    "# load image\n",
    "import cv2"
   ]
  },
  {
   "cell_type": "code",
   "execution_count": 14,
   "metadata": {
    "colab": {},
    "colab_type": "code",
    "executionInfo": {
     "elapsed": 1054,
     "status": "ok",
     "timestamp": 1592333671288,
     "user": {
      "displayName": "jahid hasan",
      "photoUrl": "",
      "userId": "04583282639345967723"
     },
     "user_tz": -360
    },
    "id": "GO7QEgh2emkD"
   },
   "outputs": [],
   "source": [
    "img = cv2.imread(\"./testImage.png\")"
   ]
  },
  {
   "cell_type": "code",
   "execution_count": 15,
   "metadata": {
    "colab": {
     "base_uri": "https://localhost:8080/",
     "height": 286
    },
    "colab_type": "code",
    "executionInfo": {
     "elapsed": 1641,
     "status": "ok",
     "timestamp": 1592333685810,
     "user": {
      "displayName": "jahid hasan",
      "photoUrl": "",
      "userId": "04583282639345967723"
     },
     "user_tz": -360
    },
    "id": "8AqMuGhwemg9",
    "outputId": "143c35b0-7826-440b-f97f-e0d7672260fc"
   },
   "outputs": [
    {
     "data": {
      "text/plain": [
       "<matplotlib.image.AxesImage at 0x7f2aa6012240>"
      ]
     },
     "execution_count": 15,
     "metadata": {
      "tags": []
     },
     "output_type": "execute_result"
    },
    {
     "data": {
      "image/png": "[encoded data removed]",
      "text/plain": [
       "<Figure size 432x288 with 1 Axes>"
      ]
     },
     "metadata": {
      "needs_background": "light",
      "tags": []
     },
     "output_type": "display_data"
    }
   ],
   "source": [
    "plt.imshow(img)"
   ]
  },
  {
   "cell_type": "code",
   "execution_count": 16,
   "metadata": {
    "colab": {
     "base_uri": "https://localhost:8080/",
     "height": 34
    },
    "colab_type": "code",
    "executionInfo": {
     "elapsed": 1211,
     "status": "ok",
     "timestamp": 1592333699448,
     "user": {
      "displayName": "jahid hasan",
      "photoUrl": "",
      "userId": "04583282639345967723"
     },
     "user_tz": -360
    },
    "id": "HxehOZtTe_Il",
    "outputId": "40883377-5a75-4593-b989-990713a73265"
   },
   "outputs": [
    {
     "data": {
      "text/plain": [
       "(1480, 1490, 3)"
      ]
     },
     "execution_count": 16,
     "metadata": {
      "tags": []
     },
     "output_type": "execute_result"
    }
   ],
   "source": [
    "img.shape"
   ]
  },
  {
   "cell_type": "code",
   "execution_count": 17,
   "metadata": {
    "colab": {
     "base_uri": "https://localhost:8080/",
     "height": 34
    },
    "colab_type": "code",
    "executionInfo": {
     "elapsed": 1224,
     "status": "ok",
     "timestamp": 1592333795975,
     "user": {
      "displayName": "jahid hasan",
      "photoUrl": "",
      "userId": "04583282639345967723"
     },
     "user_tz": -360
    },
    "id": "5-YbeRulfNJX",
    "outputId": "b8d005b3-d5aa-40bb-855e-917e503906f4"
   },
   "outputs": [
    {
     "data": {
      "text/plain": [
       "(28, 28, 3)"
      ]
     },
     "execution_count": 17,
     "metadata": {
      "tags": []
     },
     "output_type": "execute_result"
    }
   ],
   "source": [
    "# image preprocess\n",
    "img = cv2.resize(img, (28, 28))\n",
    "img.shape"
   ]
  },
  {
   "cell_type": "code",
   "execution_count": 18,
   "metadata": {
    "colab": {
     "base_uri": "https://localhost:8080/",
     "height": 34
    },
    "colab_type": "code",
    "executionInfo": {
     "elapsed": 946,
     "status": "ok",
     "timestamp": 1592333865732,
     "user": {
      "displayName": "jahid hasan",
      "photoUrl": "",
      "userId": "04583282639345967723"
     },
     "user_tz": -360
    },
    "id": "xBFvDWiWfcfd",
    "outputId": "7f3d256d-c53a-40af-b3d2-75dd002fd573"
   },
   "outputs": [
    {
     "data": {
      "text/plain": [
       "(28, 28)"
      ]
     },
     "execution_count": 18,
     "metadata": {
      "tags": []
     },
     "output_type": "execute_result"
    }
   ],
   "source": [
    "img_gray = cv2.cvtColor(img, cv2.COLOR_BGR2GRAY)\n",
    "img_gray.shape"
   ]
  },
  {
   "cell_type": "code",
   "execution_count": 19,
   "metadata": {
    "colab": {},
    "colab_type": "code",
    "executionInfo": {
     "elapsed": 994,
     "status": "ok",
     "timestamp": 1592333913445,
     "user": {
      "displayName": "jahid hasan",
      "photoUrl": "",
      "userId": "04583282639345967723"
     },
     "user_tz": -360
    },
    "id": "dAnMm6gqfunu"
   },
   "outputs": [],
   "source": [
    "# falttern\n",
    "img = img_gray.reshape(1, 28*28)"
   ]
  },
  {
   "cell_type": "code",
   "execution_count": 20,
   "metadata": {
    "colab": {},
    "colab_type": "code",
    "executionInfo": {
     "elapsed": 989,
     "status": "ok",
     "timestamp": 1592333937053,
     "user": {
      "displayName": "jahid hasan",
      "photoUrl": "",
      "userId": "04583282639345967723"
     },
     "user_tz": -360
    },
    "id": "MJZ2ych4f1ut"
   },
   "outputs": [],
   "source": [
    "pred = model.predict(img)\n",
    "output = np.argmax(pred, axis=1)"
   ]
  },
  {
   "cell_type": "code",
   "execution_count": 21,
   "metadata": {
    "colab": {
     "base_uri": "https://localhost:8080/",
     "height": 34
    },
    "colab_type": "code",
    "executionInfo": {
     "elapsed": 1027,
     "status": "ok",
     "timestamp": 1592333944880,
     "user": {
      "displayName": "jahid hasan",
      "photoUrl": "",
      "userId": "04583282639345967723"
     },
     "user_tz": -360
    },
    "id": "mswCEs4Of7S-",
    "outputId": "4b2e71f5-8cf0-4c4f-cbdd-f704ba43bfd5"
   },
   "outputs": [
    {
     "data": {
      "text/plain": [
       "array([7])"
      ]
     },
     "execution_count": 21,
     "metadata": {
      "tags": []
     },
     "output_type": "execute_result"
    }
   ],
   "source": [
    "output"
   ]
  }
 ],
 "metadata": {
  "accelerator": "GPU",
  "colab": {
   "authorship_tag": "ABX9TyOHOJPDB5uKkpZwO2fqAwIs",
   "name": "MNIST_ANN_test.ipynb",
   "provenance": []
  },
  "kernelspec": {
   "display_name": "Python 3",
   "language": "python",
   "name": "python3"
  },
  "language_info": {
   "codemirror_mode": {
    "name": "ipython",
    "version": 3
   },
   "file_extension": ".py",
   "mimetype": "text/x-python",
   "name": "python",
   "nbconvert_exporter": "python",
   "pygments_lexer": "ipython3",
   "version": "3.6.9"
  }
 },
 "nbformat": 4,
 "nbformat_minor": 1
}
